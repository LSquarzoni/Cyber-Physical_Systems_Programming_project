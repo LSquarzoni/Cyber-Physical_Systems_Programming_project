{
 "cells": [
  {
   "cell_type": "markdown",
   "metadata": {},
   "source": [
    "# <span style=\"color:green\"> **Cyber-Physical Systems Programming - Report**</span>"
   ]
  },
  {
   "cell_type": "markdown",
   "metadata": {},
   "source": [
    ">Leonardo Bellini\\\n",
    ">Lorenzo Grandi\\\n",
    ">Lorenzo Squarzoni\n",
    "\n",
    "The following notebook requires **Ubuntu 22.04 LTS** (Jammy Jellyfish) to be executed.\n",
    "\n",
    "In the following document we'll try to explain all the steps required to execute a **Multiagent SITL SLAM**, based on two Iris drones equipped with a **depth camera**; the simulation will be carried out using Gazebo and Rviz2."
   ]
  },
  {
   "cell_type": "markdown",
   "metadata": {},
   "source": [
    "### <span style=\"color:lightgreen\"> **Preliminary installations with ROS 2 Humble/Ubuntu 22.04**</span>"
   ]
  },
  {
   "cell_type": "markdown",
   "metadata": {},
   "source": [
    "https://docs.ros.org/en/humble/Tutorials.html\n",
    "\n",
    "https://docs.ros.org/en/humble/Installation/Ubuntu-Install-Debians.html"
   ]
  },
  {
   "cell_type": "code",
   "execution_count": null,
   "metadata": {},
   "outputs": [],
   "source": [
    "!sudo apt install software-properties-common\n",
    "!sudo add-apt-repository universe"
   ]
  },
  {
   "cell_type": "code",
   "execution_count": null,
   "metadata": {},
   "outputs": [],
   "source": [
    "!sudo curl -sSL https://raw.githubusercontent.com/ros/rosdistro/master/ros.key -o /usr/share/keyrings/ros-archive-keyring.gpg\n",
    "!echo \"deb [arch=$(dpkg --print-architecture) signed-by=/usr/share/keyrings/ros-archive-keyring.gpg] http://packages.ros.org/ros2/ubuntu $(. /etc/os-release && echo $UBUNTU_CODENAME) main\" | sudo tee /etc/apt/sources.list.d/ros2.list > /dev/null"
   ]
  },
  {
   "cell_type": "code",
   "execution_count": null,
   "metadata": {},
   "outputs": [],
   "source": [
    "# ROS installation\n",
    "!sudo apt update\n",
    "!sudo apt upgrade\n",
    "!sudo apt install ros-humble-desktop\n",
    "\n",
    "!sudo apt install ros-dev-tools\n",
    "\n",
    "# Gazebo installation\n",
    "!sudo apt install libgazebo-dev\n",
    "!sudo apt install ros-humble-gazebo-ros-pkgs"
   ]
  },
  {
   "cell_type": "code",
   "execution_count": null,
   "metadata": {},
   "outputs": [],
   "source": [
    "# ALWAYS REMEMBER TO SOURCE THIS FILE (or add it in the .bashrc)\n",
    "!source /opt/ros/humble/setup.bash\n",
    "\n",
    "!echo \"source /opt/ros/humble/setup.bash\" >> ~/.bashrc # To append it to the .bashrc file"
   ]
  },
  {
   "cell_type": "markdown",
   "metadata": {},
   "source": [
    "https://docs.px4.io/main/en/dev_setup/dev_env_linux_ubuntu.html#ros-2"
   ]
  },
  {
   "cell_type": "code",
   "execution_count": null,
   "metadata": {},
   "outputs": [],
   "source": [
    "# Download PX4\n",
    "!git clone https://github.com/PX4/PX4-Autopilot.git --recursive\n",
    "\n",
    "# Install\n",
    "!bash ./PX4-Autopilot/Tools/setup/ubuntu.sh -no-sim-tools --no-nuttx\n",
    "\n",
    "# Then restart computer\n",
    "\n",
    "# Additional dependencies\n",
    "!sudo apt-get install protobuf-compiler libeigen3-dev libopencv-dev -y"
   ]
  },
  {
   "cell_type": "markdown",
   "metadata": {},
   "source": [
    "### **.SDF to .URDF confersion of the iris model**"
   ]
  },
  {
   "cell_type": "markdown",
   "metadata": {},
   "source": [
    "Since Rviz requires the drone's model to be in .urdf format, it is mandatory to convert the .sdf file of it to be readable.\n",
    "\n",
    "The URDF files we'll use in the simulation are specific for each drone and are located in the */px4_pffboard/urdf* folder.\n",
    "\n",
    "To show the drones' models in Rviz it is also required to take the **/meshes** folder from */px4_pffboard* and place it at the following address: *~/NAME_OF_YOUR_WORKSPACE/install/px4_offboard/share/px4_offboard*; this is not mandatory for the purpose of the simulation, but helps in better visualizing the process in Rviz."
   ]
  },
  {
   "cell_type": "markdown",
   "metadata": {},
   "source": [
    "### **Generic PX4 Gazebo simulation with IRIS drone**"
   ]
  },
  {
   "cell_type": "code",
   "execution_count": null,
   "metadata": {},
   "outputs": [],
   "source": [
    "!cd PX4-Autopilot # Always make sure to be in this folder\n",
    "!make px4_sitl gazebo-classic"
   ]
  },
  {
   "cell_type": "markdown",
   "metadata": {},
   "source": [
    "### **PX4 Gazebo simulation with IRIS depth camera .urdf file**"
   ]
  },
  {
   "cell_type": "code",
   "execution_count": null,
   "metadata": {},
   "outputs": [],
   "source": [
    "!cd PX4_Autopilot\n",
    "!make px4_sitl gazebo_iris_depth_camera"
   ]
  },
  {
   "cell_type": "markdown",
   "metadata": {},
   "source": [
    "These examples are generic and for testing purposes; in the final execution the models will be loaded from the launch file."
   ]
  },
  {
   "cell_type": "markdown",
   "metadata": {},
   "source": [
    "### **ROS2 PX4 Offboard script**"
   ]
  },
  {
   "cell_type": "markdown",
   "metadata": {},
   "source": [
    "https://github.com/ARK-Electronics/ROS2_PX4_Offboard_Example\n",
    "\n",
    "The following repository will be the baseline for our work. It allows to launch many processes with a single command; of course it requires the correct addresses depending on the specific models and processes we require for the execution."
   ]
  },
  {
   "cell_type": "code",
   "execution_count": null,
   "metadata": {},
   "outputs": [],
   "source": [
    "# Micro XRCE installation\n",
    "!pip3 install --user -U empy pyros-genmsg setuptools\n",
    "!pip3 install kconfiglib\n",
    "!pip install --user jsonschema\n",
    "!pip install --user jinja2\n",
    "\n",
    "!git clone https://github.com/eProsima/Micro-XRCE-DDS-Agent.git\n",
    "!cd Micro-XRCE-DDS-Agent\n",
    "!mkdir build\n",
    "!cd build\n",
    "!cmake ..\n",
    "!make\n",
    "!sudo make install\n",
    "!sudo ldconfig /usr/local/lib/"
   ]
  },
  {
   "cell_type": "code",
   "execution_count": null,
   "metadata": {},
   "outputs": [],
   "source": [
    "# Inside the /ROS2_ws/src directory\n",
    "!git clone https://github.com/PX4/px4_msgs.git\n",
    "!git clone https://github.com/ARK-Electronics/ROS2_PX4_Offboard_Example.git\n",
    "\n",
    "!cd ..\n",
    "!pip install --user -U empy==3.3.4 pyros-genmsg setuptools\n",
    "!colcon build"
   ]
  },
  {
   "cell_type": "markdown",
   "metadata": {},
   "source": [
    "To use a different IRIS model file, as our .urdf one we need to change some lines in *~/NAME_OF_YOUR_WORKSPACE/src/ROS2_PX4_Offboard_Example/px4_offboard/px4_offboard/processes.py*:\n",
    "\n",
    "> Run the PX4 SITL simulation \\\n",
    "> \"cd ~/PX4-Autopilot && make px4_sitl gz_x500\"\n",
    "\n",
    "to:\n",
    "\n",
    "> Run the PX4 SITL simulation \\\n",
    "> \"cd ~/PX4-Autopilot && make px4_sitl gazebo-classic_iris_depth_camera__warehouse\" # For the warehouse world \\\n",
    "> or \\\n",
    "> Run the PX4 SITL simulation \\\n",
    "> \"cd ~/PX4-Autopilot && make px4_sitl gazebo-classic_iris_depth_camera__our_empty\" # For our simple world"
   ]
  },
  {
   "cell_type": "code",
   "execution_count": null,
   "metadata": {},
   "outputs": [],
   "source": [
    "# Source the code every time -> from ~/NAME_OF_YOUR_WORKSPACE\n",
    "!source ./install/setup.bash"
   ]
  },
  {
   "cell_type": "markdown",
   "metadata": {},
   "source": [
    "The simulation will be launched with all the required processes, to add new topics or nodes it will be easier to add the corresponding commands directly in the .launch file."
   ]
  },
  {
   "cell_type": "code",
   "execution_count": null,
   "metadata": {},
   "outputs": [],
   "source": [
    "# To run the simulation\n",
    "!ros2 launch px4_offboard offboard_velocity_control.launch.py"
   ]
  },
  {
   "cell_type": "markdown",
   "metadata": {},
   "source": [
    "At this point we are able to launch Gazebo and Rviz2 with a depth camera equipped drone, publishing the image of it and the associated point cloud that will be used to map the environment."
   ]
  },
  {
   "cell_type": "markdown",
   "metadata": {},
   "source": [
    "In our project we faced a problem with the ROS topic correct publishing, where the data related to the sensor wasn't correctly linked to the map frame, leading to an incompatibility between the sensor itself and the octomap library. To solve this issue we needed to manually publish the topics and link it to the map frame, with the correct transformation."
   ]
  },
  {
   "cell_type": "markdown",
   "metadata": {},
   "source": [
    "### **Base_Link and Map publishing**"
   ]
  },
  {
   "cell_type": "code",
   "execution_count": null,
   "metadata": {},
   "outputs": [],
   "source": [
    "# From ~/NAME_OF_YOUR_WORKSPACE, when the simulation in Gazebo and Rviz is running\n",
    "!source ./install/setup.bash\n",
    "!ros2 run map_base_link_publ map_base_link_publ\n",
    "!ros2 run map_frame_publisher map_frame_publisher"
   ]
  },
  {
   "cell_type": "markdown",
   "metadata": {},
   "source": [
    "### **PointCloud publishing with respect to Map**"
   ]
  },
  {
   "cell_type": "markdown",
   "metadata": {},
   "source": [
    "In addition we need to execute one last script in order to transform the pointcloud with respect to the map frame and use it for the mapping process."
   ]
  },
  {
   "cell_type": "code",
   "execution_count": null,
   "metadata": {},
   "outputs": [],
   "source": [
    "# From ~/NAME_OF_YOUR_WORKSPACE\n",
    "!source ./install/setup.bash\n",
    "!ros2 run pointcloud_transformer pointcloud_transformer"
   ]
  },
  {
   "cell_type": "markdown",
   "metadata": {},
   "source": [
    "For ease, all these three executions will be added to the launch file.\n",
    "\n",
    "What they do is, respectively, to correctly link the map frame to the base_link frame of the drone, public the map frame and finally transform the pointcloud generated by the depth camera in order to make it visible from the map frame, which will be our main reference for all the interesting topics."
   ]
  },
  {
   "cell_type": "markdown",
   "metadata": {},
   "source": [
    "### **OctoMap Mapping**\n",
    "\n",
    "Version for ROS 2 Humble"
   ]
  },
  {
   "cell_type": "code",
   "execution_count": null,
   "metadata": {},
   "outputs": [],
   "source": [
    "!sudo apt-get install ros-humble-octomap-mapping\n",
    "\n",
    "!sudo nautilus # Command required too modify the launch file as needed\n",
    "# The data will then be located at /opt/ros/humble/share/octomap_server/launch/ --> insert the topic \"/pointcloud_wrt_map\" and the frame_id as \"map\"\n",
    "\n",
    "!ros2 launch octomap_server octomap_mapping.launch.xml # To launch the mapping"
   ]
  },
  {
   "cell_type": "markdown",
   "metadata": {},
   "source": [
    "The mapping will be generated as a MarkerArray, specifically as a topic called */occupied_cells_vis_array*.\n",
    "\n",
    "It is fundamental to insert the correct topic for the input pointcloud and the frame id into the octomap server launch file."
   ]
  },
  {
   "cell_type": "markdown",
   "metadata": {},
   "source": [
    "### <span style=\"color:lightgreen\"> **Multiagent simulation with PX4 in Gazebo**</span>"
   ]
  },
  {
   "cell_type": "markdown",
   "metadata": {},
   "source": [
    "From the **multivehicle simulation files** folder take the files and place (replace the already exisiting files if present) them in the following folders:\n",
    "- *sitl_multiple_run.sh* --> ~/PX4-Autopilot/Tools/simulation/gazebo-classic\n",
    "- *jinja_gen.py* --> ~/PX4-Autopilot/Tools/simulation/gazebo-classic/sitl_gazebo-classic\n",
    "- *iris_depth_camera.sdf.jinja* --> ~/PX4-Autopilot/Tools/simulation/gazebo-classic/sitl_gazebo-classic/models/iris_depth_camera"
   ]
  },
  {
   "cell_type": "markdown",
   "metadata": {},
   "source": [
    "From the **world** folder take the file and place it in ~/PX4-Autopilot/Tools/simulation/gazebo-classic/sitl_gazebo-classic/worlds. After that, go to ~PX4-Autopilot/src/modules/simulation/simulator_mavlink and open **sitl_targets_gazebo-classic.cmake** and write 'our_empty' among the names all other already existing worlds (from line 110 to 120)"
   ]
  },
  {
   "cell_type": "markdown",
   "metadata": {},
   "source": [
    "Take all the packages and place them in ~/NAME_OF_YOU_WORKSPACE/src. You must also have the *px4_msgs* package that you che clone from Github."
   ]
  },
  {
   "cell_type": "markdown",
   "metadata": {},
   "source": [
    "In the *launch* directory in the *px4_offboard* package folder open the launch file. At line 15 replace *drone_ws* with the name of your ROS2 worksapce"
   ]
  },
  {
   "cell_type": "markdown",
   "metadata": {},
   "source": [
    "**TO RUN THE SIMULATION** from terminal:"
   ]
  },
  {
   "cell_type": "code",
   "execution_count": null,
   "metadata": {},
   "outputs": [],
   "source": [
    "!cd ~/NAME_OF_YOUR_WORKSPACE\n",
    "!colcon build # If you need to compile\n",
    "!source ./install/setup.bash\n",
    "!ros2 launch px4_offboard offboard_velocity_control.launch.py"
   ]
  },
  {
   "cell_type": "markdown",
   "metadata": {},
   "source": [
    "The Gazebo simulation is launched by the python script *processes.py* at ~/NAME_OF_YOUR_WORKSPACE/src/px4_offboard/px4_offboard with the command:\n",
    "\n",
    "cd ~/PX4-Autopilot/Tools/simulation/gazebo-classic && ./sitl_multiple_run.sh -s iris_depth_camera:1:0:0,iris_depth_camera:1:3:3 -w our_empty\n",
    "\n",
    "The syntax is --> ./sitl_multiple_run.sh -s MODEL1:N° OF ENTITES:X_COORD:Y_COORD,MODEL2:N° OF ENTITES:X_COORD:Y_COORD, ..."
   ]
  },
  {
   "cell_type": "markdown",
   "metadata": {},
   "source": [
    "**BRIEF EXPLAINATION OF HOW ALL THIS WORKS**:\n",
    "\n",
    "In Gazebo/ROS when multiple entities exist, they must have different frames, topics ecc ecc names. For other models (like *iris*) everything is already managed by PX4 & Co (to each entity is assigned a namespace px4_1, px4_2 ecc,  so each topic name will start with /px4_N/...), but not for the *iris_depth_camera* model.\n",
    "\n",
    "When the *sitl_multiple_run.sh* file is executed it calls the *jinja_gen.py* script that uses the *.sdf.jinja* file of the desired model to generate all the sdf files for all the entities: the sdf.jinja file is like a generic sdf file where the things that must be different among the entities to avoid conflicts are not assigned to a fixed value or have fixed names, but these values/names are received from the sitl_multiple_run.sh and jinja_gen.py files.\n",
    "\n",
    "The sdf.jinja file for the iris_depth_camera model didn't exist, so we created one where we said that the base_link and camera_link frames and something more in the camera_plugin have names taken as parameters from the two scripts. In this way for example the first drone will have *base_link_1* and *camera_link_1* and the second one will have *base_link_2* and *camera_link_2* as frames names.\n",
    "\n",
    "We also created two .urdf files with matching frames names to publish all the frames using the robot_state_publisher nodes.\n",
    "\n",
    "With all this we are able to se the cameras data from all the drones and to create the topics refered to the map frame (pointcloud_wrt_map) to create the Octomap!!"
   ]
  },
  {
   "cell_type": "markdown",
   "metadata": {},
   "source": [
    "**PROBLEMS**:\n",
    "\n",
    "In the single vehicle simulation the map->base_link transform was published starting form the data taken from the topic /fmu/out/vehicle_odometry but with 2 drones this doesn't work: the odometry corresponds to the relative position and orientation of the drone from its initial position and orientation, so if the drone doesn't move the odometry will be always 0 0 0 ... With two drones, both will have odometries equal to 0 0 0 if they don't move, so if we publish the transform map->base_link_1 and map->base_link_2 using the odometry the frames of the two drones will overlap. We tried using other topics like *local_position* but the result is the same. So we need the absolute position of the drones with respect to the world."
   ]
  },
  {
   "cell_type": "markdown",
   "metadata": {},
   "source": [
    "**SOLUTION**:\n",
    "\n",
    "To reach our goal we had to write a couple of new scripts, later compiled as ros packages in our environment:\n",
    "\n",
    "- *Map Base_Link Publisher*: responsible for providing both local and global positions of the drones, starting from their odometry data; specifically it takes the longitude, latitude and altitude information to transform it into an XYZ representation of the drones' position. This data will be referred to the map frame.\n",
    "- *Pointcloud Combiner*: taking as input both pointclouds with respect to map, it combines them to have a single topic (*/merged_pointcloud_wrt_map*) to feed to octomap server package. The combination is a simple superposition of the two pointclouds, carried out using the pcl library's functions.\n",
    "\n",
    "Once the position of the drones is correctly observed and their pointclouds are merged, we can finally obtain the mapping of the environment, calling the octomap command we have seen previously, or simply adding its execution to the launch file."
   ]
  },
  {
   "cell_type": "markdown",
   "metadata": {},
   "source": [
    "**DRONES MOVEMENT IN SPACE:**"
   ]
  },
  {
   "cell_type": "markdown",
   "metadata": {},
   "source": [
    "Now we need to control the drones' movement and make them map the whole environment. We want the process to be repeatable, for this reason we'll use a python script, built as a ROS package called drone_control. "
   ]
  },
  {
   "cell_type": "markdown",
   "metadata": {},
   "source": [
    "We could control the movement also taking advantage of QGroundControl:"
   ]
  },
  {
   "cell_type": "code",
   "execution_count": null,
   "metadata": {},
   "outputs": [],
   "source": [
    "# To install QGC\n",
    "!wget https://d176tv9ibo4jno.cloudfront.net/latest/QGroundControl.AppImage\n",
    "!chmod +x ./QGroundControl.AppImage\n",
    "\n",
    "# To launch QGC\n",
    "!./QGroundControl.AppImage"
   ]
  },
  {
   "cell_type": "markdown",
   "metadata": {},
   "source": [
    "In our simulation is important to set some specific parameters before starting, in particular we need to deactivate the Manual Control Input setting required for safety reasons, in order to avoid to incurr into the Failsafe Mode. To do so we have to set  COM_RCL_EXCEPT = 4.\n",
    "\n",
    "To specify these parameters there are many approaches, like using the px4 MAVLink Commands or changing manually the values in the PX4 folder:\n",
    "\n",
    "go to **PX4-Autopilot/ROMFS/px4fmu_common/init.d-posix/** and add these lines to the file **px4-rc.params**:"
   ]
  },
  {
   "cell_type": "code",
   "execution_count": null,
   "metadata": {},
   "outputs": [],
   "source": [
    "param set COM_ARM_WO_GPS 1   # Warning only when the GPS preflight check fails \n",
    "param set COM_RCL_EXCEPT 4   # RC loss ignored and failsafe not triggered in offboard mode \n",
    "param set COM_RC_IN_MODE 4   # Stick input disabled \n",
    "param set EKF2_HGT_REF 1     # GPS as reference source of height data \n",
    "param set LPE_FUSION 0 \n",
    "param set LPE_GPS_Z 5.0      # Standard deviation for GPS \n",
    "param set LPE_VIS_Z 2.0      # Standard deviation for vision \n",
    "param set COM_LOW_BAT_ACT 0  # Warning only when batter failsafe is triggered \n",
    "param set MPC_Z_P 0.1        # Proportional gain for vertical position error \n",
    "param set SYS_HAS_BARO 0     # Barometer not present \n",
    "param set SYS_HAS_MAG 0      # Magnetometer not present \n",
    "param set SENS_EN_BAROSIM 1  # Simulated barometer \n",
    "param set SENS_EN_MAGSIM 1   # Simulated magnetometer "
   ]
  },
  {
   "cell_type": "markdown",
   "metadata": {},
   "source": [
    "The simulation carried out in Gazebo returned initially an unstable vertical position and acceleration, leading to various problems when trying to control the drones in offboard mode: when the system doesn't have a stable height estimation it doesn't allow to arm the drone and navigate. To reduce this observed oscillation we worked on the .sdf.jinja file responsible for generating the drones: in particular we increased the inertia of the components, added a small value of dampening to prevent vibrations and finally reduced the noise of both the accelerometer and gyroscope, almost completely nulling the vertical bouncing the drones had."
   ]
  },
  {
   "cell_type": "markdown",
   "metadata": {},
   "source": [
    "Then the PX4 folder needs to be compiled to make the changes effective.\n",
    "\n",
    "Once this is done we can proceed by setting the offboard mode and arming the drones."
   ]
  },
  {
   "cell_type": "code",
   "execution_count": null,
   "metadata": {},
   "outputs": [],
   "source": [
    "# To run the drone_control script\n",
    "!cd ~/NAME_OF_YOUR_WORKSPACE\n",
    "!colcon build # If you need to compile\n",
    "!source ./install/setup.bash\n",
    "!ros2 run px4_drones_control px4_drones_control"
   ]
  }
 ],
 "metadata": {
  "language_info": {
   "name": "python"
  }
 },
 "nbformat": 4,
 "nbformat_minor": 2
}
