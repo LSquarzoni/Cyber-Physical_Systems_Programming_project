{
 "cells": [
  {
   "cell_type": "markdown",
   "metadata": {},
   "source": [
    "# CPS Report"
   ]
  },
  {
   "cell_type": "markdown",
   "metadata": {},
   "source": [
    "### Preliminary installations with ROS Noetic/Ubuntu 20.04 "
   ]
  },
  {
   "cell_type": "markdown",
   "metadata": {},
   "source": [
    "https://docs.px4.io/main/en/dev_setup/dev_env_linux_ubuntu.html"
   ]
  },
  {
   "cell_type": "code",
   "execution_count": null,
   "metadata": {},
   "outputs": [],
   "source": [
    "# download PX4\n",
    "!git clone https://github.com/PX4/PX4-Autopilot.git --recursive\n",
    "\n",
    "# install\n",
    "!bash ./PX4-Autopilot/Tools/setup/ubuntu.sh -no-sim-tools --no-nuttx\n",
    "\n",
    "# then restart computer\n",
    "\n",
    "# additional dependencies\n",
    "!sudo apt-get install protobuf-compiler libeigen3-dev libopencv-dev -y"
   ]
  },
  {
   "cell_type": "markdown",
   "metadata": {},
   "source": [
    "http://wiki.ros.org/noetic/Installation/Ubuntu#Installation"
   ]
  },
  {
   "cell_type": "code",
   "execution_count": null,
   "metadata": {},
   "outputs": [],
   "source": [
    "# ROS Noetic installation\n",
    "!sudo sh -c 'echo \"deb http://packages.ros.org/ros/ubuntu $(lsb_release -sc) main\" > /etc/apt/sources.list.d/ros-latest.list'\n",
    "!sudo apt install curl # if you haven't already installed curl\n",
    "!curl -s https://raw.githubusercontent.com/ros/rosdistro/master/ros.asc | sudo apt-key add -\n",
    "\n",
    "# update packages\n",
    "!sudo apt update\n",
    "\n",
    "# ROS desktop full install\n",
    "!sudo apt install ros-noetic-desktop-full"
   ]
  },
  {
   "cell_type": "markdown",
   "metadata": {},
   "source": [
    "https://docs.px4.io/main/en/ros/mavros_installation.html"
   ]
  },
  {
   "cell_type": "code",
   "execution_count": null,
   "metadata": {},
   "outputs": [],
   "source": [
    "# Mavros installation\n",
    "!"
   ]
  }
 ],
 "metadata": {
  "language_info": {
   "name": "python"
  }
 },
 "nbformat": 4,
 "nbformat_minor": 2
}
