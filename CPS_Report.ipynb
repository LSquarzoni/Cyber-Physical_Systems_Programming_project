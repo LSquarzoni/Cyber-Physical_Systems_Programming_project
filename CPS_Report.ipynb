{
 "cells": [
  {
   "cell_type": "markdown",
   "metadata": {},
   "source": [
    "# CPS Project "
   ]
  },
  {
   "cell_type": "markdown",
   "metadata": {},
   "source": [
    "To do:\n",
    "- Simulare su Gazebo un drone dotato di videocamera e imparare ad interpretare i dati prodotti da quest'ultima (con l'aiuto di RVIZ ROS)\n",
    "- Implementare uno o più aruco codes e utilizzarli come riferimento per lo spostamento del drone"
   ]
  },
  {
   "cell_type": "markdown",
   "metadata": {},
   "source": [
    "### Gazebo"
   ]
  },
  {
   "cell_type": "code",
   "execution_count": null,
   "metadata": {},
   "outputs": [],
   "source": [
    "# Apertura Gazebo con un drone generico\n",
    "!cd PX4-Autopilot/\n",
    "!make px4_sitl gazebo-classic"
   ]
  },
  {
   "cell_type": "markdown",
   "metadata": {},
   "source": [
    "### Micro XRCE "
   ]
  },
  {
   "cell_type": "code",
   "execution_count": null,
   "metadata": {},
   "outputs": [],
   "source": [
    "# Apertura XRCE Agent (da un diverso terminale)\n",
    "!MicroXRCEAgent udp4 -p 8888"
   ]
  }
 ],
 "metadata": {
  "language_info": {
   "name": "python"
  }
 },
 "nbformat": 4,
 "nbformat_minor": 2
}
