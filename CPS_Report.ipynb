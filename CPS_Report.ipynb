{
 "cells": [
  {
   "cell_type": "markdown",
   "metadata": {},
   "source": [
    "# CPS Project "
   ]
  },
  {
   "cell_type": "markdown",
   "metadata": {},
   "source": [
    "To do:\n",
    "- Simulare su Gazebo un drone dotato di videocamera e imparare ad interpretare i dati prodotti da quest'ultima (con l'aiuto di RVIZ ROS)\n",
    "- Implementare uno o più aruco codes e utilizzarli come riferimento per lo spostamento del drone"
   ]
  },
  {
   "cell_type": "markdown",
   "metadata": {},
   "source": [
    "### ROS2 and PX4 offboard authomatic script"
   ]
  },
  {
   "cell_type": "markdown",
   "metadata": {},
   "source": [
    "https://github.com/ARK-Electronics/ROS2_PX4_Offboard_Example"
   ]
  },
  {
   "cell_type": "markdown",
   "metadata": {},
   "source": [
    "The following example runs a launch python file that \"authomatically\" opens all required terminals and runs the right commands; a Gazebo instance is called using PX4. In our environment everything has been built and set properly"
   ]
  },
  {
   "cell_type": "code",
   "execution_count": null,
   "metadata": {},
   "outputs": [],
   "source": [
    "# TERMINAL 1\n",
    "!cd PX4_ROS2_ws\n",
    "!source install/setup.bash\n",
    "\n",
    "!ros2 launch px4_offboard offboard_velocity_control.launch.py"
   ]
  },
  {
   "cell_type": "markdown",
   "metadata": {},
   "source": [
    "This will run numerous things. In no particular order, it will run:\n",
    "\n",
    "    processes.py in a new window\n",
    "        MicroDDS in a new terminal window\n",
    "        Gazebo will open in a second tab in the same terminal window\n",
    "            Gazebo GUI will open in it's own window\n",
    "    control.py in a new window\n",
    "        Sends ROS2 Teleop commands to the /offboard_velocity_cmd topic based on keyboard input\n",
    "    RVIZ will open in a new window\n",
    "    velocity_control.py runs as it's own node, and is the main node of this example\n",
    "\n",
    "Once everything is running, you should be able to focus into the control.py terminal window, arm, and takeoff. The controls mimic Mode 2 RC Transmitter controls with WASD being the left joystick and the arrow keys being the right joystick. The controls are as follows:\n",
    "\n",
    "    W: Up\n",
    "    S: Down\n",
    "    A: Yaw Left\n",
    "    D: Yaw Right\n",
    "    Up Arrow: Pitch Forward\n",
    "    Down Arrow: Pitch Backward\n",
    "    Left Arrow: Roll Left\n",
    "    Right Arrow: Roll Right\n",
    "    Space: Arm/Disarm\n",
    "\n",
    "Pressing Space will arm the drone. Wait a moment and it will takeoff and switch into offboard mode. You can now control it using the above keys. If you land the drone, it will disarm and to takeoff again you will need to toggle the arm switch off and back on with the space bar.\n",
    "\n",
    "Using the controls, click W to send a vertical veloctiy command and take off. Once in the air you can control it as you see fit."
   ]
  },
  {
   "cell_type": "markdown",
   "metadata": {},
   "source": [
    "The ./src/ROS2_PX4_Offboard_Example/px4_offboard/px4_offboard/processes.py file has been modified with the command \"cd ~/PX4-Autopilot && make px4_sitl_default gazebo-classic_iris\" to open a Gazebo instance with a drone already equipped with a camera"
   ]
  },
  {
   "cell_type": "markdown",
   "metadata": {},
   "source": [
    "<span style=\"color:red\">Remember to close the terminals with Ctrl+C to avoid leaving open instancies of Gazebo</span>"
   ]
  },
  {
   "cell_type": "markdown",
   "metadata": {},
   "source": [
    "### Aruco detection and Camera addition example"
   ]
  },
  {
   "cell_type": "markdown",
   "metadata": {},
   "source": [
    "https://github.com/AerialRobotics-IITK/aruco_detection_gazebo"
   ]
  },
  {
   "cell_type": "markdown",
   "metadata": {},
   "source": [
    "### ROS2"
   ]
  },
  {
   "cell_type": "code",
   "execution_count": null,
   "metadata": {},
   "outputs": [],
   "source": [
    "# Need to run this on every terminal in which you have to run ros commands in order for the to work\n",
    "!source /opt/ros/humble/setup.bash\n",
    "\n",
    "# We can also add this line of code in the .bashrc file in /Home\n",
    "# this way we don't need to run the command each time anymore"
   ]
  },
  {
   "cell_type": "code",
   "execution_count": null,
   "metadata": {},
   "outputs": [],
   "source": [
    "# To see the whole list of topics published by ROS2\n",
    "!ros2 topic list"
   ]
  },
  {
   "cell_type": "markdown",
   "metadata": {},
   "source": [
    "### Gazebo"
   ]
  },
  {
   "cell_type": "code",
   "execution_count": null,
   "metadata": {},
   "outputs": [],
   "source": [
    "# Apertura Gazebo con un drone generico\n",
    "!cd PX4-Autopilot/\n",
    "!make px4_sitl gazebo-classic"
   ]
  },
  {
   "cell_type": "code",
   "execution_count": null,
   "metadata": {},
   "outputs": [],
   "source": [
    "# Apertura Gazebo con quadrotore Iris (con videocamera)\n",
    "!cd PX4-Autopilot/\n",
    "!make px4_sitl gazebo-classic_iris_opt_flow\n",
    "\n",
    "!make px4_sitl gazebo-classic_iris_depth_camera"
   ]
  },
  {
   "cell_type": "code",
   "execution_count": null,
   "metadata": {},
   "outputs": [],
   "source": [
    "# Per fare decollare il drone\n",
    "!commander takeoff # comando da inserire nel terminale di lancio px4_sitl\n",
    "\n"
   ]
  },
  {
   "cell_type": "markdown",
   "metadata": {},
   "source": [
    "### Iris model with RGBD camera <span style=\"color:red\">-> not workin properly</span>"
   ]
  },
  {
   "cell_type": "markdown",
   "metadata": {},
   "source": [
    "https://github.com/ViniciusAbrao/px4_ros2_xrcedds"
   ]
  },
  {
   "cell_type": "markdown",
   "metadata": {},
   "source": [
    "For now we face some problems, mainly because of a presumed incompatibility between ros2, px4 and gazebo"
   ]
  },
  {
   "cell_type": "code",
   "execution_count": null,
   "metadata": {},
   "outputs": [],
   "source": [
    "# TERMINAL 1\n",
    "!cd PX4-Autopilot/\n",
    "!source /opt/ros/humble/setup.bash\n",
    "\n",
    "# Make PX4 and roslaunch the gazebo simulation:\n",
    "#!make px4_sitl_default gazebo-classic_iris # This after having changed the iris.sdf file in the models folder of PX4\n",
    "!ros2 launch px4 posix_sitl.launch"
   ]
  },
  {
   "cell_type": "code",
   "execution_count": null,
   "metadata": {},
   "outputs": [],
   "source": [
    "# TERMINAL 2\n",
    "!MicroXRCEAgent udp4 -p 8888"
   ]
  },
  {
   "cell_type": "code",
   "execution_count": null,
   "metadata": {},
   "outputs": [],
   "source": [
    "# TERMINAL 3\n",
    "!source /opt/ros/foxy/setup.bash\n",
    "!ros2 run ros1_bridge dynamic_bridge"
   ]
  },
  {
   "cell_type": "code",
   "execution_count": null,
   "metadata": {},
   "outputs": [],
   "source": [
    "# TERMINAL 4\n",
    "!cd ~/dev/px4_ros2/ros_packages\n",
    "!source /opt/ros/foxy/setup.bash\n",
    "!colcon build\n",
    "!source install/local_setup.bash\n",
    "!ros2 launch px4_offboard offboard_position_control.launch.py"
   ]
  },
  {
   "cell_type": "code",
   "execution_count": null,
   "metadata": {},
   "outputs": [],
   "source": [
    "# TERMINAL 5\n",
    "!source /opt/ros/foxy/setup.bash\n",
    "!ros2 topic list\n",
    "\n",
    "!source /opt/ros/foxy/setup.bash\n",
    "!ros2 topic echo /camera/color/image_raw sensor_msgs/msg/Image "
   ]
  },
  {
   "cell_type": "markdown",
   "metadata": {},
   "source": [
    "### Micro XRCE "
   ]
  },
  {
   "cell_type": "code",
   "execution_count": null,
   "metadata": {},
   "outputs": [],
   "source": [
    "# Apertura Micro XRCE Agent (da un diverso terminale)\n",
    "!MicroXRCEAgent udp4 -p 8888"
   ]
  }
 ],
 "metadata": {
  "language_info": {
   "name": "python"
  }
 },
 "nbformat": 4,
 "nbformat_minor": 2
}
