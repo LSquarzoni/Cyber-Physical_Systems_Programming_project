{
 "cells": [
  {
   "cell_type": "markdown",
   "metadata": {},
   "source": [
    "# CPS Report"
   ]
  },
  {
   "cell_type": "markdown",
   "metadata": {},
   "source": [
    "The following notebook requires Ubuntu 22.04 LTS (Jammy Jellyfish) to be executed"
   ]
  },
  {
   "cell_type": "markdown",
   "metadata": {},
   "source": [
    "### Preliminary installations with ROS 2 Humble/Ubuntu 22.04 "
   ]
  },
  {
   "cell_type": "markdown",
   "metadata": {},
   "source": [
    "https://docs.ros.org/en/humble/Tutorials.html\n",
    "\n",
    "https://docs.ros.org/en/humble/Installation/Ubuntu-Install-Debians.html"
   ]
  },
  {
   "cell_type": "code",
   "execution_count": null,
   "metadata": {},
   "outputs": [],
   "source": [
    "!sudo apt install software-properties-common\n",
    "!sudo add-apt-repository universe"
   ]
  },
  {
   "cell_type": "code",
   "execution_count": null,
   "metadata": {},
   "outputs": [],
   "source": [
    "!sudo curl -sSL https://raw.githubusercontent.com/ros/rosdistro/master/ros.key -o /usr/share/keyrings/ros-archive-keyring.gpg\n",
    "!echo \"deb [arch=$(dpkg --print-architecture) signed-by=/usr/share/keyrings/ros-archive-keyring.gpg] http://packages.ros.org/ros2/ubuntu $(. /etc/os-release && echo $UBUNTU_CODENAME) main\" | sudo tee /etc/apt/sources.list.d/ros2.list > /dev/null"
   ]
  },
  {
   "cell_type": "code",
   "execution_count": null,
   "metadata": {},
   "outputs": [],
   "source": [
    "# ROS installation\n",
    "!sudo apt update\n",
    "!sudo apt upgrade\n",
    "!sudo apt install ros-humble-desktop\n",
    "\n",
    "!sudo apt install ros-dev-tools\n",
    "\n",
    "# Gazebo installation\n",
    "!sudo apt install libgazebo-dev\n",
    "!sudo apt install ros-humble-gazebo-ros-pkgs"
   ]
  },
  {
   "cell_type": "code",
   "execution_count": null,
   "metadata": {},
   "outputs": [],
   "source": [
    "# ALWAYS REMEMBER TO SOURCE THIS FILE (or add it in the .bashrc)\n",
    "!source /opt/ros/humble/setup.bash\n",
    "\n",
    "!echo \"source /opt/ros/humble/setup.bash\" >> ~/.bashrc"
   ]
  },
  {
   "cell_type": "markdown",
   "metadata": {},
   "source": [
    "https://docs.px4.io/main/en/dev_setup/dev_env_linux_ubuntu.html#ros-2"
   ]
  },
  {
   "cell_type": "code",
   "execution_count": null,
   "metadata": {},
   "outputs": [],
   "source": [
    "# download PX4\n",
    "!git clone https://github.com/PX4/PX4-Autopilot.git --recursive\n",
    "\n",
    "# install\n",
    "!bash ./PX4-Autopilot/Tools/setup/ubuntu.sh -no-sim-tools --no-nuttx\n",
    "\n",
    "# then restart computer\n",
    "\n",
    "# additional dependencies\n",
    "!sudo apt-get install protobuf-compiler libeigen3-dev libopencv-dev -y"
   ]
  },
  {
   "cell_type": "markdown",
   "metadata": {},
   "source": [
    "### .SDF to .URDF confersion of the iris model"
   ]
  },
  {
   "cell_type": "markdown",
   "metadata": {},
   "source": [
    "https://github.com/andreasBihlmaier/pysdf __ NOT WORKING"
   ]
  },
  {
   "cell_type": "code",
   "execution_count": null,
   "metadata": {},
   "outputs": [],
   "source": [
    "!git clone https://github.com/andreasBihlmaier/pysdf\n",
    "!pip install python-sdformat\n",
    "\n",
    "# Conversion example\n",
    "!cd ROS2_ws/src/pysdf/scripts\n",
    "!python3 sdf2urdf.py ~/PX4-Autopilot/Tools/simulation/gazebo-classic/sitl_gazebo-classic/models/iris/iris.sdf ~/PX4-Autopilot/Tools/simulation/gazebo-classic/sitl_gazebo-classic/models/iris/iris.urdf"
   ]
  },
  {
   "cell_type": "markdown",
   "metadata": {},
   "source": [
    "https://github.com/theg4sh/sdf2urdf"
   ]
  },
  {
   "cell_type": "code",
   "execution_count": null,
   "metadata": {},
   "outputs": [],
   "source": [
    "!git clone https://github.com/theg4sh/sdf2urdf.git\n",
    "!sudo pip3 install xacro python-dotenv pyparsing\n",
    "\n",
    "!cd ROS_ws/src/sdf2urdf\n",
    "!export PYTHON_PATH=$(pwd)/GazeboMaterial\n",
    "# Conversion example\n",
    "!./sdf2urdf.py ~/PX4-Autopilot/Tools/simulation/gazebo-classic/sitl_gazebo-classic/models/iris/iris.sdf"
   ]
  },
  {
   "cell_type": "markdown",
   "metadata": {},
   "source": [
    "### Generic PX4 Gazebo simulation with IRIS drone"
   ]
  },
  {
   "cell_type": "code",
   "execution_count": null,
   "metadata": {},
   "outputs": [],
   "source": [
    "!cd PX4-Autopilot\n",
    "!make px4_sitl gazebo-classic"
   ]
  }
 ],
 "metadata": {
  "language_info": {
   "name": "python"
  }
 },
 "nbformat": 4,
 "nbformat_minor": 2
}
