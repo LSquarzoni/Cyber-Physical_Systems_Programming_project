{
 "cells": [
  {
   "cell_type": "markdown",
   "metadata": {},
   "source": [
    "# CPS Project "
   ]
  },
  {
   "cell_type": "markdown",
   "metadata": {},
   "source": [
    "To do:\n",
    "- Simulare su Gazebo un drone dotato di videocamera e imparare ad interpretare i dati prodotti da quest'ultima (con l'aiuto di RVIZ ROS)\n",
    "- Implementare uno o più aruco codes e utilizzarli come riferimento per lo spostamento del drone"
   ]
  },
  {
   "cell_type": "markdown",
   "metadata": {},
   "source": [
    "### Gazebo"
   ]
  },
  {
   "cell_type": "code",
   "execution_count": null,
   "metadata": {},
   "outputs": [],
   "source": [
    "# Apertura Gazebo con un drone generico\n",
    "!cd PX4-Autopilot/\n",
    "!make px4_sitl gazebo-classic"
   ]
  },
  {
   "cell_type": "code",
   "execution_count": null,
   "metadata": {},
   "outputs": [],
   "source": [
    "# Apertura Gazebo con quadrotore Iris (con videocamera)\n",
    "!cd PX4-Autopilot/\n",
    "!make px4_sitl gazebo-classic_iris_opt_flow\n",
    "\n",
    "!make px4_sitl gazebo-classic_iris_depth_camera"
   ]
  },
  {
   "cell_type": "code",
   "execution_count": null,
   "metadata": {},
   "outputs": [],
   "source": [
    "# Per fare decollare il drone\n",
    "!commander takeoff # comando da inserire nel terminale di lancio px4_sitl\n",
    "\n"
   ]
  },
  {
   "cell_type": "markdown",
   "metadata": {},
   "source": [
    "### Iris model with RGBD camera"
   ]
  },
  {
   "cell_type": "markdown",
   "metadata": {},
   "source": [
    "https://github.com/ViniciusAbrao/px4_ros2_xrcedds"
   ]
  },
  {
   "cell_type": "markdown",
   "metadata": {},
   "source": [
    "For now we face some problems, mainly because of a presumed incompatibility between ros2, px4 and gazebo"
   ]
  },
  {
   "cell_type": "code",
   "execution_count": null,
   "metadata": {},
   "outputs": [],
   "source": [
    "# TERMINAL 1\n",
    "!cd PX4-Autopilot/\n",
    "\n",
    "# Make PX4 and roslaunch the gazebo simulation:\n",
    "!make px4_sitl_default gazebo-classic_iris # This after having changed the iris.sdf file in the models folder of PX4\n",
    "!roslaunch px4 posix_sitl.launch"
   ]
  },
  {
   "cell_type": "code",
   "execution_count": null,
   "metadata": {},
   "outputs": [],
   "source": [
    "# TERMINAL 2\n",
    "!MicroXRCEAgent udp4 -p 8888"
   ]
  },
  {
   "cell_type": "code",
   "execution_count": null,
   "metadata": {},
   "outputs": [],
   "source": [
    "# TERMINAL 3\n",
    "!source /opt/ros/foxy/setup.bash\n",
    "!ros2 run ros1_bridge dynamic_bridge"
   ]
  },
  {
   "cell_type": "code",
   "execution_count": null,
   "metadata": {},
   "outputs": [],
   "source": [
    "# TERMINAL 4\n",
    "!cd ~/dev/px4_ros2/ros_packages\n",
    "!source /opt/ros/foxy/setup.bash\n",
    "!colcon build\n",
    "!source install/local_setup.bash\n",
    "!ros2 launch px4_offboard offboard_position_control.launch.py"
   ]
  },
  {
   "cell_type": "code",
   "execution_count": null,
   "metadata": {},
   "outputs": [],
   "source": [
    "# TERMINAL 5\n",
    "!source /opt/ros/foxy/setup.bash\n",
    "!ros2 topic list\n",
    "\n",
    "!source /opt/ros/foxy/setup.bash\n",
    "!ros2 topic echo /camera/color/image_raw sensor_msgs/msg/Image "
   ]
  },
  {
   "cell_type": "markdown",
   "metadata": {},
   "source": [
    "### Micro XRCE "
   ]
  },
  {
   "cell_type": "code",
   "execution_count": null,
   "metadata": {},
   "outputs": [],
   "source": [
    "# Apertura Micro XRCE Agent (da un diverso terminale)\n",
    "!MicroXRCEAgent udp4 -p 8888"
   ]
  }
 ],
 "metadata": {
  "language_info": {
   "name": "python"
  }
 },
 "nbformat": 4,
 "nbformat_minor": 2
}
