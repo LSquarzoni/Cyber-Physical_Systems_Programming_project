{
 "cells": [
  {
   "cell_type": "markdown",
   "metadata": {},
   "source": [
    "# CPS Report (old version)"
   ]
  },
  {
   "cell_type": "markdown",
   "metadata": {},
   "source": [
    "The following notebook requires Ubuntu 20.04 LTS (Focal Fossa) to be executed"
   ]
  },
  {
   "cell_type": "markdown",
   "metadata": {},
   "source": [
    "### Preliminary installations with ROS Noetic/Ubuntu 20.04 "
   ]
  },
  {
   "cell_type": "markdown",
   "metadata": {},
   "source": [
    "https://docs.px4.io/main/en/dev_setup/dev_env_linux_ubuntu.html"
   ]
  },
  {
   "cell_type": "code",
   "execution_count": null,
   "metadata": {},
   "outputs": [],
   "source": [
    "# download PX4\n",
    "!git clone https://github.com/PX4/PX4-Autopilot.git --recursive\n",
    "\n",
    "# install\n",
    "!bash ./PX4-Autopilot/Tools/setup/ubuntu.sh -no-sim-tools --no-nuttx\n",
    "\n",
    "# then restart computer\n",
    "\n",
    "# additional dependencies\n",
    "!sudo apt-get install protobuf-compiler libeigen3-dev libopencv-dev -y"
   ]
  },
  {
   "cell_type": "markdown",
   "metadata": {},
   "source": [
    "http://wiki.ros.org/noetic/Installation/Ubuntu#Installation"
   ]
  },
  {
   "cell_type": "code",
   "execution_count": null,
   "metadata": {},
   "outputs": [],
   "source": [
    "# ROS Noetic installation\n",
    "!sudo sh -c 'echo \"deb http://packages.ros.org/ros/ubuntu $(lsb_release -sc) main\" > /etc/apt/sources.list.d/ros-latest.list'\n",
    "!sudo apt install curl # if you haven't already installed curl\n",
    "!curl -s https://raw.githubusercontent.com/ros/rosdistro/master/ros.asc | sudo apt-key add -\n",
    "\n",
    "# update packages\n",
    "!sudo apt update\n",
    "\n",
    "# ROS desktop full install\n",
    "!sudo apt install ros-noetic-desktop-full\n",
    "\n",
    "# to install specific packages:\n",
    "!sudo apt install ros-noetic-PACKAGE # ex: sudo apt install ros-noetic-slam-gmapping"
   ]
  },
  {
   "cell_type": "code",
   "execution_count": null,
   "metadata": {},
   "outputs": [],
   "source": [
    "# Additional we will need later on\n",
    "!sudo apt install ros-noetic-robot-state-publisher\n",
    "!sudo apt install ros-noetic-joint-state-publisher\n",
    "!sudo apt install ros-noetic-gazebo-ros-pkgs"
   ]
  },
  {
   "cell_type": "code",
   "execution_count": null,
   "metadata": {},
   "outputs": [],
   "source": [
    "# you must source this script in every bash terminal you use ROS in\n",
    "!source /opt/ros/noetic/setup.bash\n",
    "\n",
    "# or you can automatically source it every time a terminal is launched (do it just once):\n",
    "!echo \"source /opt/ros/noetic/setup.bash\" >> ~/.bashrc\n",
    "!source ~/.bashrc"
   ]
  },
  {
   "cell_type": "code",
   "execution_count": null,
   "metadata": {},
   "outputs": [],
   "source": [
    "# dependencies for building packages:\n",
    "!sudo apt install python3-rosdep python3-rosinstall python3-rosinstall-generator python3-wstool build-essential\n",
    "\n",
    "# initialize rosdep\n",
    "!sudo rosdep init\n",
    "!rosdep update"
   ]
  },
  {
   "cell_type": "markdown",
   "metadata": {},
   "source": [
    "https://docs.px4.io/main/en/ros/mavros_installation.html"
   ]
  },
  {
   "cell_type": "code",
   "execution_count": null,
   "metadata": {},
   "outputs": [],
   "source": [
    "# Mavros source installation\n",
    "\n",
    "# catkin workspace creation\n",
    "!sudo apt install python3-catkin-tools python3-osrf-pycommon\n",
    "!mkdir -p ~/catkin_ws/src\n",
    "!cd ~/catkin_ws\n",
    "!catkin init\n",
    "!wstool init src\n",
    "\n",
    "# install mavlink\n",
    "!rosinstall_generator --rosdistro kinetic mavlink | tee /tmp/mavros.rosinstall\n",
    "\n",
    "# install mavros\n",
    "!rosinstall_generator --upstream-development mavros | tee -a /tmp/mavros.rosinstall\n",
    "\n",
    "# create workspace and dep\n",
    "!wstool merge -t src /tmp/mavros.rosinstall\n",
    "!wstool update -t src -j4\n",
    "!rosdep install --from-paths src --ignore-src -y\n",
    "\n",
    "# install dataset\n",
    "!sudo ./src/mavros/mavros/scripts/install_geographiclib_datasets.sh\n",
    "\n",
    "# build source\n",
    "!catkin build\n",
    "\n",
    "# make sure that you use setup.bash from workspace, otherwise rosrun can't find nodes from this workspace\n",
    "!source devel/setup.bash\n",
    "\n",
    "# or\n",
    "!echo \"source ~/catkin_ws/devel/setup.bash\" >> ~/.bashrc\n",
    "!source ~/.bashrc"
   ]
  },
  {
   "cell_type": "markdown",
   "metadata": {},
   "source": [
    "### Gazebo usage example"
   ]
  },
  {
   "cell_type": "markdown",
   "metadata": {},
   "source": [
    "https://classic.gazebosim.org/tutorials?tut=ros_installing&cat=connect_ros"
   ]
  },
  {
   "cell_type": "code",
   "execution_count": null,
   "metadata": {},
   "outputs": [],
   "source": [
    "# preliminary installs\n",
    "!sudo apt-get install -y libgazebo11-dev\n",
    "\n",
    "!cd ~/catkin_ws/src\n",
    "!git clone https://github.com/ros-simulation/gazebo_ros_pkgs.git -b noetic-devel\n",
    "\n",
    "# check for missing dependencies\n",
    "!rosdep update\n",
    "!rosdep check --from-paths . --ignore-src --rosdistro noetic\n",
    "# if some are missing run:\n",
    "!rosdep install --from-paths . --ignore-src --rosdistro noetic -y\n",
    "\n",
    "# build gazebo_ros_pkgs\n",
    "!cd ~/catkin_ws/\n",
    "!catkin_make"
   ]
  },
  {
   "cell_type": "code",
   "execution_count": null,
   "metadata": {},
   "outputs": [],
   "source": [
    "# testing gazebo\n",
    "!source /opt/ros/noetic/setup.bash\n",
    "!source ~/catkin_ws/devel/setup.bash\n",
    "\n",
    "!roscore &\n",
    "!rosrun gazebo_ros gazebo\n",
    "\n",
    "# to see the available ros topics:\n",
    "!rostopic list\n",
    "\n",
    "# to see the available gazebo services:\n",
    "!rosservice list"
   ]
  },
  {
   "cell_type": "code",
   "execution_count": null,
   "metadata": {},
   "outputs": [],
   "source": [
    "# different ways to tun gazebo:\n",
    "\n",
    "!rosrun gazebo_ros gazebo\n",
    "\n",
    "!roslaunch gazebo_ros empty_world.launch"
   ]
  },
  {
   "cell_type": "markdown",
   "metadata": {},
   "source": [
    "### MAVROS Offboard control example using python  (IRIS quadcopter)"
   ]
  },
  {
   "cell_type": "markdown",
   "metadata": {},
   "source": [
    "https://docs.px4.io/main/en/ros/mavros_offboard_python.html"
   ]
  },
  {
   "cell_type": "code",
   "execution_count": null,
   "metadata": {},
   "outputs": [],
   "source": [
    "!cd ~/catkin_ws/src\n",
    "\n",
    "# create a new package\n",
    "!catkin_create_pkg offboard_py rospy\n",
    "\n",
    "# build the new package\n",
    "!cd .. # /catkin_ws/\n",
    "!catkin build\n",
    "\n",
    "# now go into the folder and create new one\n",
    "!cd src/offboard_py\n",
    "!mkdir scripts\n",
    "!cd scripts\n",
    "\n",
    "# once created the offb_node.py file, gice it executable permissions\n",
    "!touch offb_node.py # -> then write inside the file\n",
    "!chmod +x offb_node.py"
   ]
  },
  {
   "cell_type": "code",
   "execution_count": null,
   "metadata": {},
   "outputs": [],
   "source": [
    "# now let's create the ROS launch file\n",
    "!cd .. # /offboard_py/\n",
    "!mkdir launch\n",
    "!cd launch\n",
    "!touch start_offb.launch # -> then write inside the file"
   ]
  },
  {
   "cell_type": "code",
   "execution_count": null,
   "metadata": {},
   "outputs": [],
   "source": [
    "# finally, to launch the script\n",
    "!no_sim=1 roslaunch offboard_py start_offb.launch\n",
    "\n",
    "# to launch an IRIS drone equipped with a depth camera I changed \n",
    "# <arg name=\"vehicle\" default=\"iris\"/> with <arg name=\"vehicle\" default=\"iris_depth_camera\"/>\n",
    "# in the ~/PX4-Autopilot/launch/mavros_posix_sitl.launch file"
   ]
  },
  {
   "cell_type": "markdown",
   "metadata": {},
   "source": [
    "### Custom messages"
   ]
  },
  {
   "cell_type": "markdown",
   "metadata": {},
   "source": [
    "https://docs.px4.io/main/en/ros/mavros_custom_messages.html"
   ]
  },
  {
   "cell_type": "markdown",
   "metadata": {},
   "source": [
    "### MAVROS and Gazebo"
   ]
  },
  {
   "cell_type": "markdown",
   "metadata": {},
   "source": [
    "https://docs.px4.io/main/en/simulation/ros_interface.html"
   ]
  },
  {
   "cell_type": "markdown",
   "metadata": {},
   "source": [
    "### OctoMap 3D"
   ]
  },
  {
   "cell_type": "markdown",
   "metadata": {},
   "source": [
    "https://docs.px4.io/main/en/sim_gazebo_classic/octomap.html"
   ]
  },
  {
   "cell_type": "code",
   "execution_count": null,
   "metadata": {},
   "outputs": [],
   "source": [
    "# Install OctoMap library\n",
    "!sudo apt-get install ros-noetic-octomap\n",
    "!sudo apt-get install ros-noetic-octomap-mapping\n",
    "!rosdep install octomap_mapping\n",
    "!rosmake octomap_mapping"
   ]
  },
  {
   "cell_type": "markdown",
   "metadata": {},
   "source": [
    "### External position estimation"
   ]
  },
  {
   "cell_type": "markdown",
   "metadata": {},
   "source": [
    "https://docs.px4.io/main/en/ros/external_position_estimation.html"
   ]
  }
 ],
 "metadata": {
  "language_info": {
   "name": "python"
  }
 },
 "nbformat": 4,
 "nbformat_minor": 2
}
